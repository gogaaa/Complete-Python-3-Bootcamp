{
  "nbformat": 4,
  "nbformat_minor": 0,
  "metadata": {
    "colab": {
      "name": "Py4AIML Assignment 03.ipynb",
      "provenance": [],
      "private_outputs": true,
      "collapsed_sections": [],
      "include_colab_link": true
    },
    "kernelspec": {
      "name": "python3",
      "display_name": "Python 3"
    }
  },
  "cells": [
    {
      "cell_type": "markdown",
      "metadata": {
        "id": "view-in-github",
        "colab_type": "text"
      },
      "source": [
        "<a href=\"https://colab.research.google.com/github/gogaaa/Complete-Python-3-Bootcamp/blob/master/Py4AIML_Assignment_03.ipynb\" target=\"_parent\"><img src=\"https://colab.research.google.com/assets/colab-badge.svg\" alt=\"Open In Colab\"/></a>"
      ]
    },
    {
      "cell_type": "markdown",
      "metadata": {
        "id": "9rVMhZ0lz7ow",
        "colab_type": "text"
      },
      "source": [
        "### Q1. Use Higher Order Function which takes  \n",
        "###      [[1, 2], [3, 4], [ ], [5],[2,3]]  \n",
        "###      output : [1, 2, 3, 4, 5, 2, 3]"
      ]
    },
    {
      "cell_type": "code",
      "metadata": {
        "id": "__Mj6su11gG9",
        "colab_type": "code",
        "colab": {}
      },
      "source": [
        "## your code here"
      ],
      "execution_count": 0,
      "outputs": []
    },
    {
      "cell_type": "markdown",
      "metadata": {
        "id": "HL-H72NT1IVq",
        "colab_type": "text"
      },
      "source": [
        "### Q2. Define a strong_number function which checks given number is a strong number. Use this function to pass into strong_number_list(list, strong_number) which prints strongs numbers in a given list."
      ]
    },
    {
      "cell_type": "code",
      "metadata": {
        "id": "PmkIrxuy1jSc",
        "colab_type": "code",
        "colab": {}
      },
      "source": [
        "## your code here"
      ],
      "execution_count": 0,
      "outputs": []
    },
    {
      "cell_type": "markdown",
      "metadata": {
        "id": "YG_jq2ZF-0Cb",
        "colab_type": "text"
      },
      "source": [
        "### Q3.Example piecewise function,\n",
        "###f(x) = $\n",
        "\\cases{\n",
        "x^2      &   $x\\lt 1 $\\cr\n",
        "3-x     &   $x\\ge 1$\n",
        "}$\n",
        "\n"
      ]
    },
    {
      "cell_type": "code",
      "metadata": {
        "id": "L7WT3o8XO04J",
        "colab_type": "code",
        "colab": {}
      },
      "source": [
        "def piecewise(lower_func, upper_func, cutoff):\n",
        "  def f(x):\n",
        "    if x < cutoff:\n",
        "      return lower_func(x)\n",
        "    else:\n",
        "      return upper_func(x)\n",
        "  return f\n",
        "\n",
        "#Execute piecewise function parmameters using anonymous lambda functions and a cutoff vaulue as 1 \n",
        "#Expected Output\n",
        " #f(0.5)  is  0.16  after rounded to two decimal points\n",
        " #f(5)   is -2\n",
        "\n",
        "\n"
      ],
      "execution_count": 0,
      "outputs": []
    },
    {
      "cell_type": "markdown",
      "metadata": {
        "id": "cEBfZ9dJRpOR",
        "colab_type": "text"
      },
      "source": [
        "### Q4. Write Function which returns, not the first, but the last element in the list that is divisible by the parameter divisor."
      ]
    },
    {
      "cell_type": "code",
      "metadata": {
        "id": "NzhheS1XRvmP",
        "colab_type": "code",
        "colab": {}
      },
      "source": [
        "## your code here"
      ],
      "execution_count": 0,
      "outputs": []
    },
    {
      "cell_type": "markdown",
      "metadata": {
        "id": "zbuVSZpNSfTI",
        "colab_type": "text"
      },
      "source": [
        "### Q5. Complete  the  following  function  definition  so  that  it  finds  the  first  pair  of adjacent items in the input list that are in descending order, and returns the index of the first element of the pair. If there is no such pair, it returns None.  Example:\n"
      ]
    },
    {
      "cell_type": "code",
      "metadata": {
        "id": "eg3d-bvASkXZ",
        "colab_type": "code",
        "colab": {}
      },
      "source": [
        "#pair_search([1,3,4,6,8,7,6])\n",
        "#output   4\n",
        "\n"
      ],
      "execution_count": 0,
      "outputs": []
    }
  ]
}